{
 "cells": [
  {
   "cell_type": "markdown",
   "metadata": {},
   "source": [
    "# Statistics\n",
    "\n",
    "This notebook goes through a release folder of MGnify. Fistrly it analyzes the release folder structure to get the number of clusters discarded due to BIAS, due to UniProt matches or to MGnify matches and other useful statistics.\n",
    "\n",
    "Afterwards, it checks overall distributions of SEED multiple sequence alignments statistics, such as dimensions, occupancy score, conservation score and prettiness score. Moreover, it compares pre-trimming and post-trimming SEED multiple sequence alignments and retrieves."
   ]
  },
  {
   "cell_type": "code",
   "execution_count": 2,
   "metadata": {
    "scrolled": true
   },
   "outputs": [
    {
     "name": "stdout",
     "output_type": "stream",
     "text": [
      "/home/damiclem/Scrivania/UniPD/Traineeship/MGnifam/notebook\r\n"
     ]
    }
   ],
   "source": [
    "!pwd"
   ]
  },
  {
   "cell_type": "code",
   "execution_count": 4,
   "metadata": {},
   "outputs": [],
   "source": [
    "# Dependencies\n",
    "import matplotlib.pyplot as plt\n",
    "from glob import glob, iglob\n",
    "from os import path\n",
    "import numpy as np\n",
    "import sys\n",
    "import os\n",
    "\n",
    "%matplotlib inline"
   ]
  },
  {
   "cell_type": "code",
   "execution_count": 7,
   "metadata": {},
   "outputs": [],
   "source": [
    "# Add custom dependecnies to path\n",
    "sys.path.append(path.dirname(os.getcwd()) + '/..')\n",
    "\n",
    "# Custom deipendencies\n",
    "from src.msa import MSA\n",
    "from src.msa import consensus, occupancy, conservation, prettiness"
   ]
  },
  {
   "cell_type": "code",
   "execution_count": 8,
   "metadata": {},
   "outputs": [],
   "source": [
    "# Constants\n",
    "RELEASE_PATH = '../'\n",
    "PLOTS_PATH = RELEASE_PATH + '/plots'\n",
    "BATCH_PATH = RELEASE_PATH + '/batch*'\n",
    "BUILD_PATH = RELEASE_PATH + '/build'"
   ]
  },
  {
   "cell_type": "markdown",
   "metadata": {},
   "source": [
    "## Batch and build statistics"
   ]
  },
  {
   "cell_type": "code",
   "execution_count": 9,
   "metadata": {},
   "outputs": [],
   "source": [
    "# Get number of passed clusters, discarded due to bias, to UniProt or to MGnify\n",
    "def get_stats(batch_path):\n",
    "    \n",
    "    # Define iterator through passed clusters\n",
    "    cluster_iter = iglob(path.join(batch_path, 'MGYP*'))\n",
    "    # Define iterator through BIAS clusters\n",
    "    bias_iter = iglob(path.join(batch_path, 'BIAS', 'MGYP*'))\n",
    "    # Define iterator through UniProt folder\n",
    "    uniprot_iter = iglob(path.join(batch_path, 'UniProt', 'MGYP*'))\n",
    "    # Define iterator through MGnify folder\n",
    "    mgnify_iter = iglob(path.join(batch_path, 'MGnify', 'MGYP*'))\n",
    "    \n",
    "    # Define number of passed clusters\n",
    "    num_passed = sum([1 for i in cluster_iter])\n",
    "    # Define number of BIAS clusters\n",
    "    num_bias = sum([1 for i in bias_iter])\n",
    "    # Define number of UniProt clusters\n",
    "    num_uniprot = sum([1 for i in uniprot_iter])\n",
    "    # Define number of MGnify clusters\n",
    "    num_mgnify = sum([1 for i in mgnify_iter])\n",
    "    \n",
    "    # Return statistics\n",
    "    return num_passed, num_bias, num_uniprot, num_mgnify"
   ]
  },
  {
   "cell_type": "code",
   "execution_count": null,
   "metadata": {},
   "outputs": [],
   "source": [
    "# Define iterator through batches\n",
    "batch_iter = iglob(BATCH_PATH)"
   ]
  },
  {
   "cell_type": "code",
   "execution_count": null,
   "metadata": {},
   "outputs": [],
   "source": [
    "# Plot BATCHES statistics\n",
    "\n",
    "# Set plot parameters\n",
    "bins = 10\n",
    "density = False\n",
    "\n",
    "# Initialize statistics\n",
    "num_passed, num_bias, num_uniprot = [], [], []\n",
    "prc_passed, prc_bias, prc_uniprot = [], [], []\n",
    "# Loop through each batch\n",
    "for batch_path in batch_iter:\n",
    "    # Get statistics\n",
    "    batch_stats = get_stats(batch_path)\n",
    "    # Define total number of clusters in current batch\n",
    "    num_clusters = sum(list(batch_stats))\n",
    "    # Save stats\n",
    "    num_passed.append(batch_stats[0]), prc_passed.append(batch_stats[0] / num_clusters)\n",
    "    num_bias.append(batch_stats[1]), prc_bias.append(batch_stats[1] / num_clusters)\n",
    "    num_uniprot.append(batch_stats[2]), prc_uniprot.append(batch_stats[2] /num_clusters)\n",
    "\n",
    "# Make plot\n",
    "fig, axs = plt.subplots(2, 3, figsize=(30, 20), sharex=True, sharey=True)\n",
    "axs[0, 0].set_title('Passed clusters')\n",
    "axs[0, 1].set_title('BIAS clusters')\n",
    "axs[0, 2].set_title('UniProt clusters')\n",
    "axs[0, 0].hist(num_passed, bins=bins, denisty=density)\n",
    "axs[0, 1].hist(num_bias, bins=bins, denisty=density)\n",
    "axs[0, 2].hist(num_uniprot, bins=bins, denisty=density)\n",
    "axs[1, 0].hist(prc_passed, bins=bins, denisty=density)\n",
    "axs[1, 1].hist(prc_bias, bins=bins, denisty=density)\n",
    "axs[1, 2].hist(prc_uniprot, bins=bins, denisty=density)\n",
    "plt.show()"
   ]
  },
  {
   "cell_type": "code",
   "execution_count": null,
   "metadata": {},
   "outputs": [],
   "source": [
    "# # Plot BUILD statistics\n",
    "\n",
    "# # Define build path\n",
    "# build_path = BUILD_PATH\n",
    "\n",
    "# # Initialize statistics\n",
    "# num_passed, num_bias, num_uniprot, num_mgnify = 0.0, 0.0, 0.0, 0.0\n",
    "# prc_passed, prc_bias, prc_uniprot, num_mgnify = 0.0, 0.0, 0.0, 0.0\n",
    "# # Get statistics\n",
    "# build_stats = get_stats(build_path)\n",
    "# # Compute total number of clusters\n",
    "# num_clusters = sum(list(build_stats))\n",
    "# # Define total number of clusters in current batch\n",
    "# num_passed, num_bias, num_uniprot, num_mgnify = build_stats\n",
    "# # Define percentages\n",
    "# prc_passed = num_passed / num_clusters\n",
    "# prc_bias = num_bias / num_clusters\n",
    "# prc_uniprot = num_uniprot / num_clusters\n",
    "# prc_mgnify = num_mgnify / num_clusters\n",
    "# # Make plot\n",
    "# fig, ax = plt.subplots(2, 4, figsize=(40, 20), sharex=True, sharey=True)\n",
    "# axs[0, 0].set_title('Passed clusters')\n",
    "# axs[0, 1].set_title('BIAS clusters')\n",
    "# axs[0, 2].set_title('UniProt clusters')\n",
    "# axs[0, 3].set_title('MGnify clusters')\n",
    "# axs[0, 0].bar(num_passed, bins=bins, denisty=density)\n",
    "# axs[0, 1].bar(num_bias, bins=bins, denisty=density)\n",
    "# axs[0, 2].bar(num_uniprot, bins=bins, denisty=density)\n",
    "# axs[0, 3].bar()\n",
    "# axs[1, 0].bar(prc_passed, bins=bins, denisty=density)\n",
    "# axs[1, 1].bar(prc_bias, bins=bins, denisty=density)\n",
    "# axs[1, 2].bar(prc_uniprot, bins=bins, denisty=density)\n",
    "# axs[1, 3].bar([])\n",
    "# plt.show()"
   ]
  },
  {
   "cell_type": "markdown",
   "metadata": {},
   "source": [
    "## MSA statistics"
   ]
  },
  {
   "cell_type": "code",
   "execution_count": 10,
   "metadata": {},
   "outputs": [],
   "source": [
    "# Get occupancy value and conservation bit-score\n",
    "def get_msa_stats(msa_path):\n",
    "    \n",
    "    # Load MSA from file\n",
    "    msa = MSA.from_aln(msa_path)\n",
    "    # Get MSA shape\n",
    "    n, m = msa.aln.shape\n",
    "    \n",
    "    # Get consensus\n",
    "    cns = consensus(msa.aln)\n",
    "    # Use consensus to compute occupancy\n",
    "    occ = occupancy(cns)\n",
    "    # Use consensus to compute conservation\n",
    "    csv = conservation(cns)\n",
    "    # Use conservation to compute prettiness score\n",
    "    prt = prettiness(csv, n, m)\n",
    "    \n",
    "    # Return scores\n",
    "    return occ, csv, prt"
   ]
  },
  {
   "cell_type": "code",
   "execution_count": null,
   "metadata": {},
   "outputs": [],
   "source": [
    "# Get MSA statistics\n",
    "\n",
    "# Initialize statistics dictionary\n",
    "stats_raw, stats_trim = dict(), dict()\n",
    "\n",
    "# Define iterator thorugh every passed cluster in every batch\n",
    "clusters_iter = iglob(BATCH_PATH + '/MGYP*')\n",
    "\n",
    "# Loop through every passed cluster\n",
    "for cluster_path in clusters_iter:\n",
    "    # Define current cluster's raw SEED alignment path\n",
    "    seed_raw_path = path.join(cluster_path, 'SEED_raw')\n",
    "    # Define current cluster's trimmed SEED alignment path\n",
    "    seed_trim_path = path.join(cluster_path, 'SEED')\n",
    "    \n",
    "    # Get statistics from raw SEED alignment\n",
    "    cns, occ, csv, prt = get_msa_stats(msa_path)\n",
    "    # stats_raw.setdefault('cns', []).extend(cns)\n",
    "    stats_raw.setdefault('occ', []).extend(occ)\n",
    "    stats_raw.setdefault('csv', []).extend(csv)\n",
    "    stats_raw.setdefault('prt', []).append(prt)\n",
    "    # Get statistics from trimmed SEED alignment\n",
    "    cns, occ, csv, prt = get_msa_stats(msa_path)\n",
    "    # stats_trim.setdefault('cns', []).extend(cns)\n",
    "    stats_trim.setdefault('occ', []).extend(occ)\n",
    "    stats_trim.setdefault('csv', []).extend(csv)\n",
    "    stats_trim.setdefault('prt', []).append(prt)\n",
    "    \n",
    "# Make plot\n",
    "fig, axs = plt.subfigures(2, 3, sharex=True, sharey=False)\n",
    "# Set orizontal titles\n",
    "axs[0, 0].set_title('Prettiness score')\n",
    "axs[0, 1].set_title('Occupancy distribution')\n",
    "axs[0, 2].set_title('Conservation distribution')\n",
    "# Set vertical labels\n",
    "axs[0, 0].set_ylabel('Pre-trimming scores')\n",
    "axs[1, 0].set_ylabel('Post-tirmming scores')\n",
    "# Pre-trim prettiness score\n",
    "axs[0, 0].hist(stats_raw.get('prt'), bins=30, density=False)  # Make histogram\n",
    "axs[0, 0].axvline(np.mean(stats_raw.get('prt')), color='r')  # Add mean line\n",
    "# Post-trim prettiness score\n",
    "axs[1, 0].hist(stats_trim.get('prt'), bins=30, density=False)  # Make histogram\n",
    "axs[1, 0].axvline(np.mean(stats_trim.get('prt')), color='r')  # Add mean line\n",
    "# Pre-trim occupancy distribution\n",
    "axs[0, 1].hist(stats_raw.get('occ'), bins=100, density=False)  # Make histogram\n",
    "axs[0, 1].axvline(np.mean(stats_raw.get('occ')), color='r') # Add mean line\n",
    "# Post-trim occupancy distribution\n",
    "axs[1, 1].hist(stats_trim.get('occ'), bins=100, density=False)  # Make histogram\n",
    "axs[1, 1].axvline(np.mean(stats_trim.get('occ')), color='r') # Add mean line\n",
    "# TODO Pre-trim conservation distribution\n",
    "axs[0, 2].hist(stats_raw.get('csv'), bins=100, density=False)  # Make histogram\n",
    "axs[0, 2].axvline(np.mean(stats_raw.get('occ')), color='r') # Add mean line\n",
    "# TODO Post-trim conservation distribution\n",
    "axs[0, 2].hist(stats_trim.get('csv'), bins=100, density=False)  # Make histogram\n",
    "axs[0, 2].axvline(np.mean(stats_trim.get('occ')), color='r') # Add mean line\n",
    "# Show plot\n",
    "plt.show()"
   ]
  }
 ],
 "metadata": {
  "kernelspec": {
   "display_name": "Python 3",
   "language": "python",
   "name": "python3"
  },
  "language_info": {
   "codemirror_mode": {
    "name": "ipython",
    "version": 3
   },
   "file_extension": ".py",
   "mimetype": "text/x-python",
   "name": "python",
   "nbconvert_exporter": "python",
   "pygments_lexer": "ipython3",
   "version": "3.7.6"
  }
 },
 "nbformat": 4,
 "nbformat_minor": 4
}
