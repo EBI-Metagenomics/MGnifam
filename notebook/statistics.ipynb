{
 "cells": [
  {
   "cell_type": "markdown",
   "metadata": {},
   "source": [
    "# Statistics\n",
    "\n",
    "This notebook goes through a release folder of MGnify. Fistrly it analyzes the release folder structure to get the number of clusters discarded due to BIAS, due to UniProt matches or to MGnify matches and other useful statistics.\n",
    "\n",
    "Afterwards, it checks overall distributions of SEED multiple sequence alignments statistics, such as dimensions, occupancy score, conservation score and prettiness score. Moreover, it compares pre-trimming and post-trimming SEED multiple sequence alignments and retrieves."
   ]
  },
  {
   "cell_type": "code",
   "execution_count": null,
   "metadata": {
    "scrolled": true
   },
   "outputs": [],
   "source": [
    "!pwd"
   ]
  },
  {
   "cell_type": "code",
   "execution_count": null,
   "metadata": {},
   "outputs": [],
   "source": [
    "# Dependencies\n",
    "import matplotlib.pyplot as plt\n",
    "from glob import glob, iglob\n",
    "from os import path\n",
    "import numpy as np\n",
    "import random\n",
    "import sys\n",
    "import os\n",
    "\n",
    "# Define random seed\n",
    "random.seed(42)\n",
    "\n",
    "# Setup plotting\n",
    "%matplotlib inline"
   ]
  },
  {
   "cell_type": "code",
   "execution_count": null,
   "metadata": {
    "scrolled": true
   },
   "outputs": [],
   "source": [
    "# Add custom dependecnies to path\n",
    "sys.path.append(os.path.join(os.getcwd(), '..'))\n",
    "\n",
    "# Custom deipendencies\n",
    "from src.msa import MSA\n",
    "from src.msa import consensus, occupancy, conservation, prettiness"
   ]
  },
  {
   "cell_type": "code",
   "execution_count": null,
   "metadata": {},
   "outputs": [],
   "source": [
    "# Constants\n",
    "CLUSTERS_PATH = os.path.join('..', 'tmp', 'mgseed2', 'MGYP*')"
   ]
  },
  {
   "cell_type": "code",
   "execution_count": null,
   "metadata": {},
   "outputs": [],
   "source": [
    "# # Define input file path\n",
    "# in_path = '/hps/nobackup2/production/metagenomics/dclementel/MGnifam_build/Batch_lists/no_pfam_no_uniprot.txt'\n",
    "# \n",
    "# # Define output file path \n",
    "# out_path = os.path.join(os.getcwd(), '..', 'tmp', 'sample')\n",
    "# \n",
    "# # Take sample of size less than total number of clusters\n",
    "# sample = set(random.sample(range(1, int(1e06)), int(1e03)))\n",
    "# \n",
    "# # Open input file\n",
    "# in_file = open(in_path, 'r')\n",
    "# # Open output file\n",
    "# out_file = open(out_path, 'w')\n",
    "# # Get clusters file\n",
    "# for i, line in enumerate(in_file):\n",
    "#     # Case index is in sample\n",
    "#     if i in sample:\n",
    "#         # Write line to output file\n",
    "#         out_file.write(line)\n",
    "#         # Remove from sample (early stopping)\n",
    "#         sample.remove(i)\n",
    "#     # Stoping condition: sample is empty\n",
    "#     if len(sample) == 0:\n",
    "#         break\n",
    "# # Close input file\n",
    "# in_file.close()\n",
    "# # Close output file\n",
    "# out_file.close()"
   ]
  },
  {
   "cell_type": "markdown",
   "metadata": {},
   "source": [
    "## Batch and build statistics"
   ]
  },
  {
   "cell_type": "code",
   "execution_count": null,
   "metadata": {},
   "outputs": [],
   "source": [
    "# # Get number of passed clusters, discarded due to bias, to UniProt or to MGnify\n",
    "# def get_stats(batch_path):\n",
    "#     \n",
    "#     # Define iterator through passed clusters\n",
    "#     cluster_iter = iglob(path.join(batch_path, 'MGYP*'))\n",
    "#     # Define iterator through BIAS clusters\n",
    "#     bias_iter = iglob(path.join(batch_path, 'BIAS', 'MGYP*'))\n",
    "#     # Define iterator through UniProt folder\n",
    "#     uniprot_iter = iglob(path.join(batch_path, 'UniProt', 'MGYP*'))\n",
    "#     # Define iterator through MGnify folder\n",
    "#     mgnify_iter = iglob(path.join(batch_path, 'MGnify', 'MGYP*'))\n",
    "#     \n",
    "#     # Define number of passed clusters\n",
    "#     num_passed = sum([1 for i in cluster_iter])\n",
    "#     # Define number of BIAS clusters\n",
    "#     num_bias = sum([1 for i in bias_iter])\n",
    "#     # Define number of UniProt clusters\n",
    "#     num_uniprot = sum([1 for i in uniprot_iter])\n",
    "#     # Define number of MGnify clusters\n",
    "#     num_mgnify = sum([1 for i in mgnify_iter])\n",
    "#     \n",
    "#     # Return statistics\n",
    "#     return num_passed, num_bias, num_uniprot, num_mgnify"
   ]
  },
  {
   "cell_type": "markdown",
   "metadata": {},
   "source": [
    "## SEED statistics"
   ]
  },
  {
   "cell_type": "code",
   "execution_count": null,
   "metadata": {},
   "outputs": [],
   "source": [
    "# Get occupancy value and conservation bit-score\n",
    "def get_msa_stats(msa_path):\n",
    "    \n",
    "    # Load MSA from file\n",
    "    msa = MSA.from_aln(msa_path)\n",
    "    # Get MSA shape\n",
    "    n, m = msa.aln.shape\n",
    "    \n",
    "    # Get consensus\n",
    "    cns = consensus(msa.aln)\n",
    "    # Use consensus to compute occupancy\n",
    "    occ = occupancy(cns)\n",
    "    # Use consensus to compute conservation\n",
    "    csv = conservation(cns)\n",
    "    # Use conservation to compute prettiness score\n",
    "    prt = prettiness(csv, n, m)\n",
    "    \n",
    "    # Return scores\n",
    "    return occ, csv, prt, (n, m)"
   ]
  },
  {
   "cell_type": "code",
   "execution_count": null,
   "metadata": {},
   "outputs": [],
   "source": [
    "# Plot statistics\n",
    "def plot_msa_stats(stats, label_size=18, title_size=24, figsize=(30, 10),\n",
    "                   shape_xlim=None, shape_ylim=None,\n",
    "                   occ_xlim=None, occ_ylim=None,\n",
    "                   csv_xlim=None, csv_ylim=None):\n",
    "    # Make plot\n",
    "    fig, axs = plt.subplots(1, 3, figsize=figsize)\n",
    "    # Set orizontal titles\n",
    "    axs[0].set_title('Shape', fontsize=title_size)\n",
    "    axs[1].set_title('Occupancy', fontsize=title_size)\n",
    "    axs[2].set_title('Conservation', fontsize=title_size)\n",
    "    # Set labels for SEED shape\n",
    "    axs[0].set_xlabel('Width', fontsize=label_size)\n",
    "    axs[0].set_ylabel('Height', fontsize=label_size)\n",
    "    # Set lims for SEED shape\n",
    "    axs[0].set_xlim(*shape_xlim if shape_xlim is not None else None)\n",
    "    axs[0].set_ylim(*shape_ylim if shape_ylim is not None else None)\n",
    "    # Set labels for SEED occupancy\n",
    "    axs[1].set_xlabel('Occupancy score', fontsize=label_size)\n",
    "    axs[1].set_ylabel('Frequencies', fontsize=label_size)\n",
    "    # Set lims for SEED occupancy\n",
    "    axs[1].set_xlim(*occ_xlim if occ_xlim is not None else None)\n",
    "    axs[1].set_ylim(*occ_ylim if occ_ylim is not None else None)\n",
    "    # Set labels for SEED conservation\n",
    "    axs[2].set_xlabel('Conservation score', fontsize=label_size)\n",
    "    axs[2].set_ylabel('Frequencies', fontsize=label_size)\n",
    "    # Set lims for SEED conservation\n",
    "    axs[2].set_xlim(*csv_xlim if csv_xlim is not None else None)\n",
    "    axs[2].set_ylim(*csv_ylim if csv_ylim is not None else None)\n",
    "    # Plot MSA width vs height# \n",
    "    axs[0].scatter(x=stats.get('width'), y=stats.get('height'))  # Make scatterplot\n",
    "    # Plot MSA occupancy distribution\n",
    "    axs[1].hist(stats.get('occ'), bins=100, density=False)  # Make histogram\n",
    "    axs[1].axvline(np.mean(stats.get('occ')), color='r') # Add mean line\n",
    "    # Plot MSA conservation distribution\n",
    "    axs[2].hist(stats.get('csv'), bins=100, density=False)  # Make histogram\n",
    "    axs[2].axvline(np.mean(stats.get('csv')), color='r') # Add mean line\n",
    "    # Show plot\n",
    "    plt.show()\n",
    "    # Close plot\n",
    "    plt.close()"
   ]
  },
  {
   "cell_type": "code",
   "execution_count": null,
   "metadata": {},
   "outputs": [],
   "source": [
    "# Get MSA statistics\n",
    "\n",
    "# Initialize statistics dictionary\n",
    "stats_raw, stats_trim = dict(), dict()\n",
    "\n",
    "# Define iterator thorugh every passed cluster in every batch\n",
    "clusters_iter = iglob(CLUSTERS_PATH)\n",
    "\n",
    "# Loop through every passed cluster\n",
    "for cluster_path in clusters_iter:\n",
    "    # Define current cluster's raw SEED alignment path\n",
    "    seed_raw_path = path.join(cluster_path, 'SEED_raw')\n",
    "    # Define current cluster's trimmed SEED alignment path\n",
    "    seed_trim_path = path.join(cluster_path, 'SEED')\n",
    "    \n",
    "    # Get statistics from raw SEED alignment\n",
    "    occ, csv, prt, (n, m) = get_msa_stats(seed_raw_path)\n",
    "    stats_raw.setdefault('occ', []).extend(occ)\n",
    "    stats_raw.setdefault('csv', []).extend(csv)\n",
    "    stats_raw.setdefault('prt', []).append(prt)\n",
    "    stats_raw.setdefault('width', []).append(m)\n",
    "    stats_raw.setdefault('height', []).append(n)\n",
    "    # Get statistics from trimmed SEED alignment\n",
    "    occ, csv, prt, (n, m) = get_msa_stats(seed_trim_path)\n",
    "    stats_trim.setdefault('occ', []).extend(occ)\n",
    "    stats_trim.setdefault('csv', []).extend(csv)\n",
    "    stats_trim.setdefault('prt', []).append(prt)\n",
    "    stats_trim.setdefault('width', []).append(m)\n",
    "    stats_trim.setdefault('height', []).append(n)"
   ]
  },
  {
   "cell_type": "code",
   "execution_count": null,
   "metadata": {
    "scrolled": true
   },
   "outputs": [],
   "source": [
    "# Plot before-trimming alignment size, occupancy and conservation\n",
    "plot_msa_stats(stats_raw, figsize=(28, 7),\n",
    "               shape_xlim=(0, 4000), shape_ylim=(0, 700),\n",
    "               occ_xlim=(0, 1), occ_ylim=(0, 14000),\n",
    "               csv_xlim=(0, 2.5), csv_ylim=(0, 30000))"
   ]
  },
  {
   "cell_type": "code",
   "execution_count": null,
   "metadata": {
    "scrolled": true
   },
   "outputs": [],
   "source": [
    "# Plot after-trimming alignment size, occupancy and conservation\n",
    "plot_msa_stats(stats_trim, figsize=(28, 7),\n",
    "               shape_xlim=(0, 4000), shape_ylim=(0, 700),\n",
    "               occ_xlim=(0, 1), occ_ylim=(0, 14000),\n",
    "               csv_xlim=(0, 2.5), csv_ylim=(0, 30000))"
   ]
  },
  {
   "cell_type": "markdown",
   "metadata": {},
   "source": [
    "# SEED example"
   ]
  },
  {
   "cell_type": "code",
   "execution_count": null,
   "metadata": {},
   "outputs": [],
   "source": [
    "# Plot MSA\n",
    "def plot_msa(msa, label_size=18, title_size=24, figsize=(20, 10)):\n",
    "    \n",
    "    # Initialize new plot\n",
    "    fig = plt.figure(constrained_layout=True, figsize=figsize)\n",
    "    # # Add main title\n",
    "    # fig.suptitle('Post-trimming multiple sequence alignment (MSA)')\n",
    "    \n",
    "    # Define axes grid\n",
    "    grid = fig.add_gridspec(2, 3)\n",
    "\n",
    "    # Initialize axis\n",
    "    axs = [\n",
    "        fig.add_subplot(grid[0, 0]),  # Axis for occupancy distribution\n",
    "        fig.add_subplot(grid[0, 1:]),  # Axis for occupancy scatter\n",
    "        fig.add_subplot(grid[1, 0]),  # Axis for conservation distribution\n",
    "        fig.add_subplot(grid[1, 1:]),  # Axis for conservation scatter\n",
    "    ]\n",
    "    \n",
    "    # Occupancy distribution\n",
    "    _ = axs[0].set_title('Occupancy distribution', fontsize=title_size)\n",
    "    _ = msa.plot_hist(score='occupancy', density=True, ax=axs[0])\n",
    "    # Occupancy scatter\n",
    "    _ = axs[1].set_title('Occupancy per aligned position', fontsize=title_size)\n",
    "    _ = msa.plot_scatter(score='occupancy', ax=axs[1])\n",
    "\n",
    "    # Conservation distribution\n",
    "    _ = axs[2].set_title('Conservation distribution', fontsize=title_size)\n",
    "    _ = msa.plot_hist(score='conservation', density=True, ax=axs[2])\n",
    "    # Conservation scatter\n",
    "    _ = axs[3].set_title('Conservation per aligned position', fontsize=title_size)\n",
    "    _ = msa.plot_scatter(score='conservation', ax=axs[3])\n",
    "    \n",
    "    # Show plot\n",
    "    plt.show()\n",
    "    # Close plot\n",
    "    plt.close()"
   ]
  },
  {
   "cell_type": "code",
   "execution_count": null,
   "metadata": {},
   "outputs": [],
   "source": [
    "# Define single cluster path\n",
    "CLUSTER_PATH = '/nfs/production/metagenomics/mgnifams/dclementel/MGnifam/tmp/mgseed2/MGYP001272227668'\n",
    "\n",
    "# Define pre- and post- trimming SEED alignments paths\n",
    "seed_pre_path = os.path.join(CLUSTER_PATH, 'SEED_raw')\n",
    "seed_post_path = os.path.join(CLUSTER_PATH, 'SEED')"
   ]
  },
  {
   "cell_type": "code",
   "execution_count": null,
   "metadata": {},
   "outputs": [],
   "source": [
    "# Before trimming SEED alignment\n",
    "seed_pre = MSA.from_aln(seed_pre_path)\n",
    "# Plot SEED alignment\n",
    "plot_msa(seed_pre)"
   ]
  },
  {
   "cell_type": "code",
   "execution_count": null,
   "metadata": {},
   "outputs": [],
   "source": [
    "# After trimming SEED alignment\n",
    "seed_post = MSA.from_aln(seed_post_path)\n",
    "# Plot SEED alignment\n",
    "plot_msa(seed_post)"
   ]
  },
  {
   "cell_type": "markdown",
   "metadata": {},
   "source": [
    "## Comparing computation time"
   ]
  },
  {
   "cell_type": "code",
   "execution_count": null,
   "metadata": {},
   "outputs": [],
   "source": [
    "# Define x label\n",
    "x = ['mgseed', 'pfbuild', 'mfbuild']\n",
    "# Define y label\n",
    "y_old = [3000, 0, 0]  # Computation times for old pipeline\n",
    "y_new = [950, 0, 0]  # Computation times for new pipeline"
   ]
  }
 ],
 "metadata": {
  "kernelspec": {
   "display_name": "Python 3",
   "language": "python",
   "name": "python3"
  },
  "language_info": {
   "codemirror_mode": {
    "name": "ipython",
    "version": 3
   },
   "file_extension": ".py",
   "mimetype": "text/x-python",
   "name": "python",
   "nbconvert_exporter": "python",
   "pygments_lexer": "ipython3",
   "version": "3.7.6"
  }
 },
 "nbformat": 4,
 "nbformat_minor": 4
}
